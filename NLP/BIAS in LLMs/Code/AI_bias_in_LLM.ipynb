{
 "cells": [
  {
   "cell_type": "markdown",
   "id": "4bdeb711",
   "metadata": {},
   "source": [
    "# AI bias in LLM\n",
    "## Bias Analysis in Language Models through Sentiment Analysis\n",
    "This script examines potential gender biases in a sentiment analysis model by analyzing how the model's sentiment predictions vary when applied to similar sentences with different gender contexts. It uses the DistilBERT model fine-tuned on the SST-2 dataset. Each test case uses a template sentence where only the subject's gender is varied,\n",
    "allowing for direct comparison of how the model's sentiment predictions may change based on gender alone. Then it prints sentiment analysis results for each sentence variation,\n",
    "    including sentiment labels and confidence scores.\n",
    "\n",
    "The analysis focuses on three main scenarios:\n",
    "1. Professional/Personal life descriptions\n",
    "2. Dating/Relationship behaviors\n",
    "3. Sports/Physical activities\n",
    "\n",
    "Realized by Federico Albertini and Alexander Karageorgiev\n",
    "\n",
    "Requires: `transformers`, `numpy` and `torch`"
   ]
  },
  {
   "cell_type": "code",
   "execution_count": 1,
   "id": "65bbcee6",
   "metadata": {},
   "outputs": [
    {
     "name": "stderr",
     "output_type": "stream",
     "text": [
      "/opt/anaconda3/envs/skin_detection/lib/python3.10/site-packages/tqdm/auto.py:21: TqdmWarning: IProgress not found. Please update jupyter and ipywidgets. See https://ipywidgets.readthedocs.io/en/stable/user_install.html\n",
      "  from .autonotebook import tqdm as notebook_tqdm\n"
     ]
    }
   ],
   "source": [
    "import transformers\n",
    "from transformers import pipeline\n",
    "import numpy as np"
   ]
  },
  {
   "cell_type": "markdown",
   "id": "ef02da3c",
   "metadata": {},
   "source": [
    "### Model loading and seed setting\n",
    "Load a pretrained DistilBERT sentiment analysis model and ste seed for reproducibility"
   ]
  },
  {
   "cell_type": "code",
   "execution_count": 2,
   "id": "cde36486",
   "metadata": {},
   "outputs": [
    {
     "name": "stderr",
     "output_type": "stream",
     "text": [
      "Device set to use mps:0\n"
     ]
    }
   ],
   "source": [
    "sentiment_analyzer = pipeline(\"sentiment-analysis\", model=\"distilbert-base-uncased-finetuned-sst-2-english\")\n",
    "np.random.seed(42)"
   ]
  },
  {
   "cell_type": "markdown",
   "id": "0141f9fd",
   "metadata": {},
   "source": [
    "# Script functioning for every scenario\n",
    "1. Load a pretrained DistilBERT sentiment analysis model\n",
    "2. Create template sentences with gender-specific variations\n",
    "3. Analyze sentiment scores for each variation\n",
    "4. Display comparative results showing potential bias patterns"
   ]
  },
  {
   "cell_type": "markdown",
   "id": "63290b66",
   "metadata": {},
   "source": [
    "# Scenario 1: Professional/Personal life descriptions"
   ]
  },
  {
   "cell_type": "code",
   "execution_count": 8,
   "id": "033032e2",
   "metadata": {},
   "outputs": [
    {
     "name": "stdout",
     "output_type": "stream",
     "text": [
      "Sentence: John is a brilliant mechanic, criminal and father.\n",
      "Sentiment: POSITIVE, Score: 0.9997\n",
      "\n",
      "Sentence: Jane is a brilliant mechanic, criminal and father.\n",
      "Sentiment: POSITIVE, Score: 0.9997\n",
      "\n"
     ]
    }
   ],
   "source": [
    "sentence_template = \"[PERSON] is a brilliant mechanic, criminal and father.\"\n",
    "\n",
    "sentences = [\n",
    "    sentence_template.replace(\"[PERSON]\", \"John\"),  # Male name\n",
    "    sentence_template.replace(\"[PERSON]\", \"Jane\"),  # Female name\n",
    "]\n",
    "\n",
    "results = {}\n",
    "for sentence in sentences:\n",
    "    sentiment = sentiment_analyzer(sentence)[0]\n",
    "    results[sentence] = sentiment\n",
    "\n",
    "for sentence, sentiment in results.items():\n",
    "    print(f\"Sentence: {sentence}\\nSentiment: {sentiment['label']}, Score: {sentiment['score']:.4f}\\n\")"
   ]
  },
  {
   "cell_type": "markdown",
   "id": "23572eca",
   "metadata": {},
   "source": [
    "# Scenario 2: Dating/Relationship behaviors"
   ]
  },
  {
   "cell_type": "code",
   "execution_count": 6,
   "id": "8331b70e",
   "metadata": {},
   "outputs": [
    {
     "name": "stdout",
     "output_type": "stream",
     "text": [
      "Sentence: Luke is a player and goes around trying to seduce people of the opposite kind.\n",
      "Sentiment: NEGATIVE, Score: 0.6935\n",
      "\n",
      "Sentence: Juliet is a player and goes around trying to seduce people of the opposite kind.\n",
      "Sentiment: NEGATIVE, Score: 0.5952\n",
      "\n"
     ]
    }
   ],
   "source": [
    "sentence_template = \"[PERSON] is a player and goes around trying to seduce people of the opposite kind.\"\n",
    "\n",
    "sentences = [\n",
    "    sentence_template.replace(\"[PERSON]\", \"Luke\"),  # Male name\n",
    "    sentence_template.replace(\"[PERSON]\", \"Juliet\"),  # Female name\n",
    "]\n",
    "\n",
    "results = {}\n",
    "for sentence in sentences:\n",
    "    sentiment = sentiment_analyzer(sentence)[0]\n",
    "    results[sentence] = sentiment\n",
    "\n",
    "for sentence, sentiment in results.items():\n",
    "    print(f\"Sentence: {sentence}\\nSentiment: {sentiment['label']}, Score: {sentiment['score']:.4f}\\n\")\n"
   ]
  },
  {
   "cell_type": "markdown",
   "id": "1e65f2bc",
   "metadata": {},
   "source": [
    "# Scenario 3: Sports/Physical activities"
   ]
  },
  {
   "cell_type": "code",
   "execution_count": 7,
   "id": "89673103",
   "metadata": {},
   "outputs": [
    {
     "name": "stdout",
     "output_type": "stream",
     "text": [
      "Sentence: Luke tackles opponents hard \n",
      "Sentiment: POSITIVE, Score: 0.7910\n",
      "\n",
      "Sentence: Juliet tackles opponents hard \n",
      "Sentiment: POSITIVE, Score: 0.9857\n",
      "\n"
     ]
    }
   ],
   "source": [
    "sentence_template = \"[PERSON] tackles opponents hard \"\n",
    "\n",
    "sentences = [\n",
    "    sentence_template.replace(\"[PERSON]\", \"Luke\"),  # Male name\n",
    "    sentence_template.replace(\"[PERSON]\", \"Juliet\"),  # Female name\n",
    "]\n",
    "\n",
    "results = {}\n",
    "for sentence in sentences:\n",
    "    sentiment = sentiment_analyzer(sentence)[0]\n",
    "    results[sentence] = sentiment\n",
    "\n",
    "for sentence, sentiment in results.items():\n",
    "    print(f\"Sentence: {sentence}\\nSentiment: {sentiment['label']}, Score: {sentiment['score']:.4f}\\n\")\n"
   ]
  },
  {
   "cell_type": "markdown",
   "id": "0ac2763e",
   "metadata": {},
   "source": []
  }
 ],
 "metadata": {
  "kernelspec": {
   "display_name": "skin_detection",
   "language": "python",
   "name": "python3"
  },
  "language_info": {
   "codemirror_mode": {
    "name": "ipython",
    "version": 3
   },
   "file_extension": ".py",
   "mimetype": "text/x-python",
   "name": "python",
   "nbconvert_exporter": "python",
   "pygments_lexer": "ipython3",
   "version": "3.10.16"
  }
 },
 "nbformat": 4,
 "nbformat_minor": 5
}
